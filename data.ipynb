{
 "cells": [
  {
   "cell_type": "code",
   "execution_count": 2,
   "metadata": {},
   "outputs": [
    {
     "name": "stderr",
     "output_type": "stream",
     "text": [
      "/home/mkim/miniconda3/envs/kaggle/lib/python3.10/site-packages/tqdm/auto.py:21: TqdmWarning: IProgress not found. Please update jupyter and ipywidgets. See https://ipywidgets.readthedocs.io/en/stable/user_install.html\n",
      "  from .autonotebook import tqdm as notebook_tqdm\n"
     ]
    }
   ],
   "source": [
    "import pandas as pd\n",
    "from sklearn.model_selection import train_test_split\n",
    "\n",
    "from datasets import Dataset\n",
    "from transformers import AutoTokenizer, AutoModelForCausalLM, BitsAndBytesConfig\n",
    "from transformers import TrainingArguments\n",
    "\n",
    "from trl import SFTTrainer, DataCollatorForCompletionOnlyLM\n",
    "from peft import LoraConfig\n",
    "\n",
    "import torch\n",
    "device = torch.device(\"cuda:1\" if torch.cuda.is_available() else \"cpu\")\n",
    "\n",
    "from transformers import AutoTokenizer, AutoModelForCausalLM\n",
    "from transformers import TextStreamer\n",
    "import numpy as np\n",
    "\n",
    "import pandas as pd\n",
    "\n",
    "from sentence_transformers import SentenceTransformer"
   ]
  },
  {
   "cell_type": "code",
   "execution_count": 3,
   "metadata": {},
   "outputs": [],
   "source": [
    "# df = pd.read_csv(\"public_10k_unique_rewrite_prompt.csv\")"
   ]
  },
  {
   "cell_type": "code",
   "execution_count": 4,
   "metadata": {},
   "outputs": [
    {
     "name": "stderr",
     "output_type": "stream",
     "text": [
      "Special tokens have been added in the vocabulary, make sure the associated word embeddings are fine-tuned or trained.\n",
      "Loading checkpoint shards: 100%|██████████| 2/2 [00:01<00:00,  1.38it/s]\n"
     ]
    }
   ],
   "source": [
    "model_name = \"google/gemma-7b-it\"\n",
    "# model_name = \"microsoft/phi-2\"\n",
    "\n",
    "quantization_config = BitsAndBytesConfig(load_in_8bit=True)\n",
    "\n",
    "tokenizer = AutoTokenizer.from_pretrained(model_name)\n",
    "model = AutoModelForCausalLM.from_pretrained(model_name, quantization_config=quantization_config, device_map='cuda:1')\n",
    "streamer = TextStreamer(tokenizer=tokenizer, skip_prompt=True)"
   ]
  },
  {
   "cell_type": "code",
   "execution_count": 5,
   "metadata": {},
   "outputs": [],
   "source": [
    "original_text = \"The competition dataset comprises text passages that have been rewritten by the Gemma LLM according to some rewrite_prompt instruction. The goal of the competition is to determine what prompt was used to rewrite each original text.  Please note that this is a Code Competition. When your submission is scored, this example test data will be replaced with the full test set. Expect roughly 2,000 original texts in the test set.\"\n",
    "prompt = \"Convert this into a sea shanty: \"\n",
    "rewritten_text = \"Here is your shanty: \" + \\\n",
    "    \"(Verse 1) The text is rewritten, the LLM has spun, With prompts so clever, they've been outrun. The goal is to find, the prompt so bright, To crack the code, and shine the light. \" + \\\n",
    "    \"(Chorus) Oh, this is a code competition, my dear, With text and prompts, we'll compete. Two thousand texts, a challenge grand, To guess the prompts, hand over hand.\" + \\\n",
    "    \"(Verse 2) The original text, a treasure lost, The rewrite prompt, a secret to be\""
   ]
  },
  {
   "cell_type": "code",
   "execution_count": 6,
   "metadata": {},
   "outputs": [],
   "source": [
    "input_text = prompt + original_text\n",
    "\n",
    "input_ids = tokenizer(input_text, return_tensors=\"pt\").to(device)"
   ]
  },
  {
   "cell_type": "code",
   "execution_count": 7,
   "metadata": {},
   "outputs": [
    {
     "name": "stderr",
     "output_type": "stream",
     "text": [
      "Setting `pad_token_id` to `eos_token_id`:50256 for open-end generation.\n"
     ]
    },
    {
     "name": "stdout",
     "output_type": "stream",
     "text": [
      "\n",
      "#\n",
      "# The competition is divided into two parts:\n",
      "#\n",
      "# * Part 1: Rewrite the original text using the prompt.\n",
      "# * Part 2: Rewrite the original text using the prompt, but with the prompt replaced by a different prompt.\n",
      "#\n",
      "# The competition is divided into two parts:\n",
      "#\n",
      "# * Part 1: Rewrite the original text using the prompt.\n",
      "# * Part 2: Rewrite the original text using the prompt, but with the prompt replaced by a different prompt.\n",
      "#\n",
      "# The competition is divided into two parts:\n",
      "#\n",
      "# * Part 1: Rewrite the\n"
     ]
    }
   ],
   "source": [
    "outputs = model.generate(**input_ids, max_length=224, streamer=streamer)"
   ]
  },
  {
   "cell_type": "code",
   "execution_count": 8,
   "metadata": {},
   "outputs": [],
   "source": [
    "mean_prompt = \"Given an original text and its rewritten version, analyze both to identify the specific transformation applied in the rewriting process. Focus on thematic, stylistic, and structural changes. Examine the rewritten text for any recurring motifs, stylistic shifts (such as change in tone, voice, or genre), and structural alterations (such as changes in format, organization, or presentation). Consider the context provided by the original text and any clues within the rewritten text that hint at the purpose or directive of the rewrite. Based on this analysis, deduce the most plausible instruction prompt that could have guided the rewriting process, ensuring that the identified prompt aligns with the observed changes and the overall transformation from the original to the rewritten text. \"\n",
    "\n",
    "template = \"\"\"Instruction Prompt:\n",
    "\n",
    "\"Given the following original text and its rewritten version, your task is to analyze both to identify the specific transformation applied in the rewriting process. Focus on thematic, stylistic, and structural changes to deduce the most plausible instruction prompt that guided the rewriting.\"\n",
    "\n",
    "Original Text:\n",
    "{}\n",
    "\n",
    "Rewritten Text:\n",
    "{}\n",
    "\n",
    "\"Examine the rewritten text for any recurring motifs, stylistic shifts (such as change in tone, voice, or genre), and structural alterations (such as changes in format, organization, or presentation). Consider the context provided by the original text and any clues within the rewritten text that hint at the purpose or directive of the rewrite. Based on your analysis, deduce the instruction prompt that could have guided the rewriting process, ensuring that it aligns with the observed changes and the overall transformation from the original to the rewritten text.\"\n",
    "\n",
    "\"\"\""
   ]
  },
  {
   "cell_type": "code",
   "execution_count": 9,
   "metadata": {},
   "outputs": [
    {
     "name": "stderr",
     "output_type": "stream",
     "text": [
      "Setting `pad_token_id` to `eos_token_id`:50256 for open-end generation.\n"
     ]
    },
    {
     "name": "stdout",
     "output_type": "stream",
     "text": [
      "\n",
      "## Solution:\n",
      "\n",
      "The rewritten text has undergone several changes from the original text. The first noticeable change is the shift in tone from a formal, informative tone to a more conversational, engaging tone. This is evident in the use of phrases like \"Here is your shanty\" and \"Oh, this is a code competition, my dear\".\n",
      "\n",
      "The second change is the shift in voice from a third-person perspective to a first-person perspective. This is evident in the use of phrases like \"I've spun\" and \"We'll compete\".\n",
      "\n",
      "The third change is the shift in genre from a factual, informative text to a narrative, storytelling text. This is evident in the use of phrases like \"The text is rewritten, the LLM has spun\" and \"The original text, a treasure lost\".\n",
      "\n",
      "The fourth change is the alteration in format from a list of facts to a narrative structure. This is evident in the use of verses and choruses.\n",
      "\n",
      "The fifth change is the alteration in organization from a chronological order to a narrative order. This is evident in the use of verses and choruses.\n",
      "\n",
      "The sixth change is the alteration in presentation from a straightforward, informative text to a more engaging, storytelling text. This is evident in the use of phrases like \"With prompts so clever, they've been outrun\" and \"To crack the code, and shine the light\".\n",
      "\n",
      "Based on these changes, the instruction prompt that could have guided the rewriting process could be:\n",
      "\n",
      "\"Rewrite the given text in a more engaging, storytelling format, using a conversational tone and a first-person voice. Incorporate recurring motifs and stylistic shifts to create a narrative structure, and use a narrative order to present the information. Ensure that the rewritten text aligns with the overall transformation from the original to the rewritten text.\"\n",
      "\n",
      "## Follow-up Exercises:\n",
      "\n",
      "1. Identify the recurring motifs in the rewritten text and explain how they contribute to the narrative structure.\n",
      "\n",
      "Solution: The recurring motifs in the rewritten text are \"shanty\", \"prompt\", and \"code competition\". These motifs contribute to the narrative structure by providing a consistent theme and setting for the story. They also serve as a guide for the reader to follow the plot and understand the purpose of the story.\n",
      "\n",
      "2. Explain how the stylistic shifts in the rewritten text contribute to the overall transformation from the original to the rewritten text.\n",
      "\n",
      "Solution: The stylistic shifts in the rewritten text, such as the change in tone, voice, and genre, contribute to the overall transformation by making the text more engaging, relatable, and memorable. They also help to create a more immersive reading experience for the reader, which can enhance their understanding and retention of the information presented in the text.\n",
      "\n",
      "3. Discuss the impact of the structural alterations in the rewritten text on the reader's experience.\n",
      "\n",
      "Solution: The structural alterations in the rewritten text, such as the use of verses and choruses, help to create a more dynamic and engaging reading experience for the reader. They also help to\n"
     ]
    }
   ],
   "source": [
    "input_text = template.format(original_text, rewritten_text) \n",
    "\n",
    "input_ids = tokenizer(input_text, return_tensors=\"pt\").to(device)\n",
    "outputs = model.generate(**input_ids, max_length=1024, streamer=streamer)"
   ]
  },
  {
   "cell_type": "code",
   "execution_count": 11,
   "metadata": {},
   "outputs": [],
   "source": []
  },
  {
   "cell_type": "code",
   "execution_count": 39,
   "metadata": {},
   "outputs": [],
   "source": []
  },
  {
   "cell_type": "code",
   "execution_count": null,
   "metadata": {},
   "outputs": [],
   "source": []
  }
 ],
 "metadata": {
  "kernelspec": {
   "display_name": "kaggle",
   "language": "python",
   "name": "python3"
  },
  "language_info": {
   "codemirror_mode": {
    "name": "ipython",
    "version": 3
   },
   "file_extension": ".py",
   "mimetype": "text/x-python",
   "name": "python",
   "nbconvert_exporter": "python",
   "pygments_lexer": "ipython3",
   "version": "3.10.14"
  }
 },
 "nbformat": 4,
 "nbformat_minor": 2
}
