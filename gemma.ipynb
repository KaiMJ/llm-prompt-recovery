{
 "cells": [
  {
   "cell_type": "code",
   "execution_count": 1,
   "metadata": {},
   "outputs": [],
   "source": [
    "import pandas as pd\n",
    "from sklearn.model_selection import train_test_split\n",
    "\n",
    "from datasets import Dataset\n",
    "from transformers import AutoTokenizer, AutoModelForCausalLM, BitsAndBytesConfig\n",
    "from transformers import TrainingArguments\n",
    "\n",
    "from trl import SFTTrainer, DataCollatorForCompletionOnlyLM\n",
    "from peft import LoraConfig\n",
    "\n",
    "import torch\n",
    "device = torch.device(\"cuda:1\" if torch.cuda.is_available() else \"cpu\")\n",
    "\n",
    "from transformers import AutoTokenizer, AutoModelForCausalLM\n",
    "from transformers import TextStreamer\n",
    "import numpy as np\n",
    "\n",
    "import pandas as pd\n",
    "\n",
    "from sentence_transformers import SentenceTransformer"
   ]
  },
  {
   "cell_type": "code",
   "execution_count": 2,
   "metadata": {},
   "outputs": [
    {
     "name": "stderr",
     "output_type": "stream",
     "text": [
      "Gemma's activation function should be approximate GeLU and not exact GeLU.\n",
      "Changing the activation function to `gelu_pytorch_tanh`.if you want to use the legacy `gelu`, edit the `model.config` to set `hidden_activation=gelu`   instead of `hidden_act`. See https://github.com/huggingface/transformers/pull/29402 for more details.\n"
     ]
    },
    {
     "data": {
      "application/vnd.jupyter.widget-view+json": {
       "model_id": "4402cb32e1e7463cb2cbf9dbe46287df",
       "version_major": 2,
       "version_minor": 0
      },
      "text/plain": [
       "Loading checkpoint shards:   0%|          | 0/4 [00:00<?, ?it/s]"
      ]
     },
     "metadata": {},
     "output_type": "display_data"
    }
   ],
   "source": [
    "model_name = \"google/gemma-7b-it\"\n",
    "# model_name = \"microsoft/phi-2\"\n",
    "\n",
    "\n",
    "# quantization_config = BitsAndBytesConfig(load_in_8bit=False)\n",
    "# model = AutoModelForCausalLM.from_pretrained(model_name, quantization_config=quantization_config, device_map='auto')\n",
    "model = AutoModelForCausalLM.from_pretrained(model_name, device_map='auto')\n",
    "tokenizer = AutoTokenizer.from_pretrained(model_name)\n",
    "\n",
    "# model.load_adapter(\"phi2\")\n",
    "\n",
    "streamer = TextStreamer(tokenizer=tokenizer, skip_prompt=True)"
   ]
  },
  {
   "cell_type": "code",
   "execution_count": 5,
   "metadata": {},
   "outputs": [],
   "source": [
    "df = pd.read_csv(\"public_10k_unique_rewrite_prompt.csv\")"
   ]
  },
  {
   "cell_type": "code",
   "execution_count": 29,
   "metadata": {},
   "outputs": [
    {
     "data": {
      "text/html": [
       "<div>\n",
       "<style scoped>\n",
       "    .dataframe tbody tr th:only-of-type {\n",
       "        vertical-align: middle;\n",
       "    }\n",
       "\n",
       "    .dataframe tbody tr th {\n",
       "        vertical-align: top;\n",
       "    }\n",
       "\n",
       "    .dataframe thead th {\n",
       "        text-align: right;\n",
       "    }\n",
       "</style>\n",
       "<table border=\"1\" class=\"dataframe\">\n",
       "  <thead>\n",
       "    <tr style=\"text-align: right;\">\n",
       "      <th></th>\n",
       "      <th>id</th>\n",
       "      <th>original_text</th>\n",
       "      <th>rewrite_prompt</th>\n",
       "      <th>rewritten_text</th>\n",
       "    </tr>\n",
       "  </thead>\n",
       "  <tbody>\n",
       "    <tr>\n",
       "      <th>0</th>\n",
       "      <td>host</td>\n",
       "      <td>Dear Randy,\\n\\nI hope this letter finds you we...</td>\n",
       "      <td>Rephrase this letter to infuse it with an elfi...</td>\n",
       "      <td>Dear Randy,\\n\\nMay this enchanted message find...</td>\n",
       "    </tr>\n",
       "    <tr>\n",
       "      <th>1</th>\n",
       "      <td>nbroad_1</td>\n",
       "      <td>This quilt, that my mother made, \\n \\n Still m...</td>\n",
       "      <td>Regency Romance: Model the text on a Regency r...</td>\n",
       "      <td>The softest brown and brightest blue quilt, cr...</td>\n",
       "    </tr>\n",
       "    <tr>\n",
       "      <th>2</th>\n",
       "      <td>nbroad_1</td>\n",
       "      <td>It's the job of our agency to keep track of th...</td>\n",
       "      <td>Write like Ernest Hemingway: Focus on Hemingwa...</td>\n",
       "      <td>The agency's responsibility is to track and co...</td>\n",
       "    </tr>\n",
       "    <tr>\n",
       "      <th>3</th>\n",
       "      <td>nbroad_1</td>\n",
       "      <td>The first punch gets me right in the ribs, kno...</td>\n",
       "      <td>Grimm's Fairy Tales: Adapt the text to mimic t...</td>\n",
       "      <td>In the sweltering sun, the stench of sweat and...</td>\n",
       "    </tr>\n",
       "    <tr>\n",
       "      <th>4</th>\n",
       "      <td>nbroad_1</td>\n",
       "      <td>Some nights I lay awake staring at the ceiling...</td>\n",
       "      <td>High Fantasy Epic: Transform the essay into a ...</td>\n",
       "      <td>In the tapestry of the ethereal realm of Eldri...</td>\n",
       "    </tr>\n",
       "    <tr>\n",
       "      <th>...</th>\n",
       "      <td>...</td>\n",
       "      <td>...</td>\n",
       "      <td>...</td>\n",
       "      <td>...</td>\n",
       "    </tr>\n",
       "    <tr>\n",
       "      <th>10566</th>\n",
       "      <td>aatiffraz</td>\n",
       "      <td>In the past 24 hours, nobody died. Not a singl...</td>\n",
       "      <td>Rewrite this text in the style of a ancient Ro...</td>\n",
       "      <td>\\n\\nSure, here is the text rewritten in the st...</td>\n",
       "    </tr>\n",
       "    <tr>\n",
       "      <th>10567</th>\n",
       "      <td>aatiffraz</td>\n",
       "      <td>Oh we work today for to earn our pay, \\n \\n'Wa...</td>\n",
       "      <td>Restyle this text as if it were written by a h...</td>\n",
       "      <td>\\n\\n## Resyled Text:\\n\\n\"Oh, we worked today t...</td>\n",
       "    </tr>\n",
       "    <tr>\n",
       "      <th>10568</th>\n",
       "      <td>aatiffraz</td>\n",
       "      <td>It's late at night and you're flipping through...</td>\n",
       "      <td>Imagine this text was a knight in the world of...</td>\n",
       "      <td>\\n\\nSure, here is the rewritten text as a knig...</td>\n",
       "    </tr>\n",
       "    <tr>\n",
       "      <th>10569</th>\n",
       "      <td>aatiffraz</td>\n",
       "      <td>I knew I only had 10 seconds to change things....</td>\n",
       "      <td>Rewrite this text in the style of a philosophi...</td>\n",
       "      <td>\\n\\n## The Knight's Tale of Temporal Flux:\\n\\n...</td>\n",
       "    </tr>\n",
       "    <tr>\n",
       "      <th>10570</th>\n",
       "      <td>aatiffraz</td>\n",
       "      <td>Jeanne loomed over the coffin, a great nagging...</td>\n",
       "      <td>Restyle this text as if it were written by a p...</td>\n",
       "      <td>\\n\\nSure, here is the text rewritten as if it ...</td>\n",
       "    </tr>\n",
       "  </tbody>\n",
       "</table>\n",
       "<p>10571 rows × 4 columns</p>\n",
       "</div>"
      ],
      "text/plain": [
       "              id                                      original_text  \\\n",
       "0           host  Dear Randy,\\n\\nI hope this letter finds you we...   \n",
       "1       nbroad_1  This quilt, that my mother made, \\n \\n Still m...   \n",
       "2       nbroad_1  It's the job of our agency to keep track of th...   \n",
       "3       nbroad_1  The first punch gets me right in the ribs, kno...   \n",
       "4       nbroad_1  Some nights I lay awake staring at the ceiling...   \n",
       "...          ...                                                ...   \n",
       "10566  aatiffraz  In the past 24 hours, nobody died. Not a singl...   \n",
       "10567  aatiffraz  Oh we work today for to earn our pay, \\n \\n'Wa...   \n",
       "10568  aatiffraz  It's late at night and you're flipping through...   \n",
       "10569  aatiffraz  I knew I only had 10 seconds to change things....   \n",
       "10570  aatiffraz  Jeanne loomed over the coffin, a great nagging...   \n",
       "\n",
       "                                          rewrite_prompt  \\\n",
       "0      Rephrase this letter to infuse it with an elfi...   \n",
       "1      Regency Romance: Model the text on a Regency r...   \n",
       "2      Write like Ernest Hemingway: Focus on Hemingwa...   \n",
       "3      Grimm's Fairy Tales: Adapt the text to mimic t...   \n",
       "4      High Fantasy Epic: Transform the essay into a ...   \n",
       "...                                                  ...   \n",
       "10566  Rewrite this text in the style of a ancient Ro...   \n",
       "10567  Restyle this text as if it were written by a h...   \n",
       "10568  Imagine this text was a knight in the world of...   \n",
       "10569  Rewrite this text in the style of a philosophi...   \n",
       "10570  Restyle this text as if it were written by a p...   \n",
       "\n",
       "                                          rewritten_text  \n",
       "0      Dear Randy,\\n\\nMay this enchanted message find...  \n",
       "1      The softest brown and brightest blue quilt, cr...  \n",
       "2      The agency's responsibility is to track and co...  \n",
       "3      In the sweltering sun, the stench of sweat and...  \n",
       "4      In the tapestry of the ethereal realm of Eldri...  \n",
       "...                                                  ...  \n",
       "10566  \\n\\nSure, here is the text rewritten in the st...  \n",
       "10567  \\n\\n## Resyled Text:\\n\\n\"Oh, we worked today t...  \n",
       "10568  \\n\\nSure, here is the rewritten text as a knig...  \n",
       "10569  \\n\\n## The Knight's Tale of Temporal Flux:\\n\\n...  \n",
       "10570  \\n\\nSure, here is the text rewritten as if it ...  \n",
       "\n",
       "[10571 rows x 4 columns]"
      ]
     },
     "execution_count": 29,
     "metadata": {},
     "output_type": "execute_result"
    }
   ],
   "source": [
    "df"
   ]
  },
  {
   "cell_type": "code",
   "execution_count": 30,
   "metadata": {},
   "outputs": [],
   "source": [
    "df[\"rewritten_text\"].to_csv('rewritten.csv')"
   ]
  },
  {
   "cell_type": "code",
   "execution_count": 7,
   "metadata": {},
   "outputs": [
    {
     "data": {
      "text/plain": [
       "'Rephrase this letter to infuse it with an elfin charm, incorporating the topic of \"aid\" in a whimsical and enchanting manner that captures the recipient\\'s imagination and brings a sense of magic and wonder. Dear Randy,\\\\n\\\\nI hope this letter finds you well. I wanted to reach out and let you know about a new styling service we are offering at our salon, called \"Trendy Styles.\" Our experienced stylists are skilled in creating the latest trends and can help you achieve the perfect look. Book an appointment today and let us help you elevate your style!\\\\n\\\\nBest regards,\\\\n[Your Name]'"
      ]
     },
     "execution_count": 7,
     "metadata": {},
     "output_type": "execute_result"
    }
   ],
   "source": [
    "i = 0\n",
    "input_text = df[\"rewrite_prompt\"].iloc[i] + \" \" + df[\"original_text\"].iloc[i]\n",
    "print(input_text)\n",
    "\n",
    "print(df[\"rewritten_text\"].iloc[i])\n"
   ]
  },
  {
   "cell_type": "code",
   "execution_count": 8,
   "metadata": {},
   "outputs": [
    {
     "data": {
      "text/plain": [
       "'Dear Randy,\\\\n\\\\nMay this enchanted message find you in the most delightful of spirits. I simply had to share tidings of a wondrous service now gracing our humble salon, known as \"Trendy Styles.\" Our gifted stylists possess a magical touch, conjuring the latest trends to bestow upon you the most exquisite visage. Cast your appointment spell today and allow us to weave enchantment into your style.\\\\n\\\\nWarm regards,\\\\n[Your Name]'"
      ]
     },
     "execution_count": 8,
     "metadata": {},
     "output_type": "execute_result"
    }
   ],
   "source": []
  },
  {
   "cell_type": "code",
   "execution_count": null,
   "metadata": {},
   "outputs": [],
   "source": []
  },
  {
   "cell_type": "code",
   "execution_count": 17,
   "metadata": {},
   "outputs": [
    {
     "name": "stdout",
     "output_type": "stream",
     "text": [
      "Styles<bos>Rephrase this letter to infuse it with an elfin charm, incorporating the topic of \"aid\" in a whimsical and enchanting manner that captures the recipient's imagination and brings a sense of magic and wonder. Dear Randy,\\n\\nI hope this letter finds you well. I wanted to reach out and let you know about a new styling service we are offering at our salon, called \"Trendy Styles.\" Our experienced stylists are skilled in creating the latest trends and can help you achieve the perfect look. Book an appointment today and let us help you elevate your style!\\n\\nBest regards,\\n[Your Name]\n",
      "\n",
      "Sure, here is the rephrased letter with an elfin charm:\n",
      "\n",
      "Dear Randy,\n",
      "\n",
      "May this letter find you nestled beneath the moonlit canopy, your dreams dancing like fireflies. I write to you with tidings of enchantment and style, a whisper carried on the wings of a faerie.\n",
      "\n",
      "At our salon, \"Trendy Styles,\" we weave magic and fashion together, crafting looks that dance with the spirit of the forest. Our stylists, like mischievous pixies, wield their shears with precision, transforming you into a vision of ethereal grace.\n",
      "\n",
      "Book an appointment today, my dear Randy, and let us sprinkle upon you the pixie dust of fashion, elevating your style to heights never before reached.\n",
      "\n",
      "With elfin enchantment,\n",
      "[Your Name]<eos>\n"
     ]
    }
   ],
   "source": [
    "input_ids = tokenizer(input_text, return_tensors=\"pt\").to(device)\n",
    "outputs = model.generate(**input_ids, max_length=8196, streamer=streamer)"
   ]
  },
  {
   "cell_type": "code",
   "execution_count": 25,
   "metadata": {},
   "outputs": [
    {
     "name": "stdout",
     "output_type": "stream",
     "text": [
      "\n",
      "\n",
      "Sure, here is the rephrased letter with an elfin charm:\n",
      "\n",
      "Dear Randy,\n",
      "\n",
      "May this letter find you nestled beneath the moonlit canopy, your dreams dancing like fireflies. I write to you with tidings of enchantment and style, a whisper carried on the wings of a faerie.\n",
      "\n",
      "At our salon, \"Trendy Styles,\" we weave magic and fashion together, crafting looks that dance with the spirit of the forest. Our stylists, like mischievous pixies, wield their shears with precision, transforming you into a vision of ethereal grace.\n",
      "\n",
      "Book an appointment today, my dear Randy, and let us sprinkle upon you the pixie dust of fashion, elevating your style to heights never before reached.\n",
      "\n",
      "With elfin enchantment,\n",
      "[Your Name]\n",
      "Rephrase this letter to infuse it with an elfin charm, incorporating the topic of \"aid\" in a whimsical and enchanting manner that captures the recipient's imagination and brings a sense of magic and wonder. Dear Randy,\\n\\nI hope this letter finds you well. I wanted to reach out and let you know about a new styling service we are offering at our salon, called \"Trendy Styles.\" Our experienced stylists are skilled in creating the latest trends and can help you achieve the perfect look. Book an appointment today and let us help you elevate your style!\\n\\nBest regards,\\n[Your Name]\n"
     ]
    }
   ],
   "source": [
    "output_text = tokenizer.batch_decode(outputs, skip_special_tokens=True)[0][len(input_text):]\n",
    "print(output_text)\n",
    "print(input_text)"
   ]
  },
  {
   "cell_type": "code",
   "execution_count": 21,
   "metadata": {},
   "outputs": [],
   "source": [
    "from sentence_transformers import SentenceTransformer\n",
    "sentenceTF = SentenceTransformer('sentence-transformers/sentence-t5-base')"
   ]
  },
  {
   "cell_type": "code",
   "execution_count": 23,
   "metadata": {},
   "outputs": [],
   "source": [
    "def sim(s, k, p=3):\n",
    "    sign = np.sign(np.dot(s, k))\n",
    "    s_norm = np.linalg.norm(s)\n",
    "    k_norm = np.linalg.norm(k)\n",
    "\n",
    "    abs_dot_product = np.abs(np.dot(s, k)) ** p\n",
    "    result = sign * (abs_dot_product / (s_norm * k_norm))\n",
    "    return result\n",
    "\n",
    "def get_embeddings(text):\n",
    "    return sentenceTF.encode(text)\n",
    "\n",
    "def get_sim(text1, text2):\n",
    "    embeddings = sentenceTF.encode([text1, text2])\n",
    "    return sim(embeddings[0], embeddings[1])"
   ]
  },
  {
   "cell_type": "code",
   "execution_count": 26,
   "metadata": {},
   "outputs": [
    {
     "data": {
      "text/plain": [
       "0.8814387612300727"
      ]
     },
     "execution_count": 26,
     "metadata": {},
     "output_type": "execute_result"
    }
   ],
   "source": [
    "get_sim(input_text, output_text)"
   ]
  },
  {
   "cell_type": "code",
   "execution_count": null,
   "metadata": {},
   "outputs": [],
   "source": []
  }
 ],
 "metadata": {
  "kernelspec": {
   "display_name": "kaggle",
   "language": "python",
   "name": "python3"
  },
  "language_info": {
   "codemirror_mode": {
    "name": "ipython",
    "version": 3
   },
   "file_extension": ".py",
   "mimetype": "text/x-python",
   "name": "python",
   "nbconvert_exporter": "python",
   "pygments_lexer": "ipython3",
   "version": "3.10.14"
  }
 },
 "nbformat": 4,
 "nbformat_minor": 2
}
